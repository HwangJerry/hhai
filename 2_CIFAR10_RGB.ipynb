{
  "nbformat": 4,
  "nbformat_minor": 0,
  "metadata": {
    "colab": {
      "provenance": [],
      "gpuType": "T4"
    },
    "kernelspec": {
      "name": "python3",
      "display_name": "Python 3"
    },
    "language_info": {
      "name": "python"
    },
    "accelerator": "GPU"
  },
  "cells": [
    {
      "cell_type": "markdown",
      "source": [
        "edited by jerry"
      ],
      "metadata": {
        "id": "w5V7t1YuXy6G"
      }
    },
    {
      "cell_type": "code",
      "execution_count": 1,
      "metadata": {
        "id": "6lXVfXoDtoQh"
      },
      "outputs": [],
      "source": [
        "import torch\n",
        "import torchvision\n",
        "import torchvision.transforms as transforms"
      ]
    },
    {
      "cell_type": "code",
      "source": [
        "transform = transforms.ToTensor()\n",
        "\n",
        "# load data to train\n",
        "trainset = torchvision.datasets.CIFAR10(\n",
        "    root='./data/train',\n",
        "    train=True,\n",
        "    download=True,\n",
        "    transform=transform\n",
        ")\n",
        "\n",
        "# load data to test\n",
        "testset = torchvision.datasets.CIFAR10(\n",
        "    root = './data/test',\n",
        "    train = False,\n",
        "    download = True,\n",
        "    transform = transform\n",
        ")"
      ],
      "metadata": {
        "id": "KAYlqPaRt6ti",
        "colab": {
          "base_uri": "https://localhost:8080/"
        },
        "outputId": "d08fef10-0bd7-4edb-fc80-1ba82fe134a8"
      },
      "execution_count": 2,
      "outputs": [
        {
          "output_type": "stream",
          "name": "stdout",
          "text": [
            "Downloading https://www.cs.toronto.edu/~kriz/cifar-10-python.tar.gz to ./data/train/cifar-10-python.tar.gz\n"
          ]
        },
        {
          "output_type": "stream",
          "name": "stderr",
          "text": [
            "100%|██████████| 170M/170M [00:12<00:00, 13.5MB/s]\n"
          ]
        },
        {
          "output_type": "stream",
          "name": "stdout",
          "text": [
            "Extracting ./data/train/cifar-10-python.tar.gz to ./data/train\n",
            "Downloading https://www.cs.toronto.edu/~kriz/cifar-10-python.tar.gz to ./data/test/cifar-10-python.tar.gz\n"
          ]
        },
        {
          "output_type": "stream",
          "name": "stderr",
          "text": [
            "100%|██████████| 170M/170M [00:12<00:00, 13.3MB/s]\n"
          ]
        },
        {
          "output_type": "stream",
          "name": "stdout",
          "text": [
            "Extracting ./data/test/cifar-10-python.tar.gz to ./data/test\n"
          ]
        }
      ]
    },
    {
      "cell_type": "code",
      "source": [
        "from matplotlib import pyplot as plt\n",
        "\n",
        "print(len(trainset)) # 50,000\n",
        "print(trainset[0][0].shape, trainset[0][1])\n",
        "plt.imshow(trainset[0][0][0], cmap='gray')"
      ],
      "metadata": {
        "colab": {
          "base_uri": "https://localhost:8080/",
          "height": 484
        },
        "id": "Zsp3sHmojyhT",
        "outputId": "d5190f00-ac92-4295-ebb6-ad5051b796ce"
      },
      "execution_count": 3,
      "outputs": [
        {
          "output_type": "stream",
          "name": "stdout",
          "text": [
            "50000\n",
            "torch.Size([3, 32, 32]) 6\n"
          ]
        },
        {
          "output_type": "execute_result",
          "data": {
            "text/plain": [
              "<matplotlib.image.AxesImage at 0x7cc402ce52d0>"
            ]
          },
          "metadata": {},
          "execution_count": 3
        },
        {
          "output_type": "display_data",
          "data": {
            "text/plain": [
              "<Figure size 640x480 with 1 Axes>"
            ],
            "image/png": "[encoded data removed]"
          },
          "metadata": {}
        }
      ]
    },
    {
      "cell_type": "code",
      "source": [
        "print(len(testset)) # 10,000\n",
        "print(testset[0][0].shape, testset[0][1])\n",
        "plt.imshow(testset[0][0][0])"
      ],
      "metadata": {
        "colab": {
          "base_uri": "https://localhost:8080/",
          "height": 484
        },
        "id": "msNMhLKpiotG",
        "outputId": "cf12402b-4ef4-4fd3-877b-c231cfaa7be3"
      },
      "execution_count": 4,
      "outputs": [
        {
          "output_type": "stream",
          "name": "stdout",
          "text": [
            "10000\n",
            "torch.Size([3, 32, 32]) 3\n"
          ]
        },
        {
          "output_type": "execute_result",
          "data": {
            "text/plain": [
              "<matplotlib.image.AxesImage at 0x7cc4027a0fa0>"
            ]
          },
          "metadata": {},
          "execution_count": 4
        },
        {
          "output_type": "display_data",
          "data": {
            "text/plain": [
              "<Figure size 640x480 with 1 Axes>"
            ],
            "image/png": "[encoded data removed]"
          },
          "metadata": {}
        }
      ]
    },
    {
      "cell_type": "code",
      "source": [
        "batch_size = 256\n",
        "\n",
        "# dataloader for trainset\n",
        "trainloader = torch.utils.data.DataLoader(\n",
        "    trainset,\n",
        "    batch_size=batch_size,\n",
        "    shuffle=True\n",
        ")\n",
        "\n",
        "# dataloader for testset\n",
        "testloader = torch.utils.data.DataLoader(\n",
        "    testset,\n",
        "    batch_size=batch_size,\n",
        "    shuffle=False\n",
        ")"
      ],
      "metadata": {
        "id": "UxKu3kA2i5WH"
      },
      "execution_count": 5,
      "outputs": []
    },
    {
      "cell_type": "code",
      "source": [
        "dataiter = iter(trainloader)\n",
        "images, labels = next(dataiter)\n",
        "print(images.shape, labels.shape)"
      ],
      "metadata": {
        "colab": {
          "base_uri": "https://localhost:8080/"
        },
        "id": "_Hd7XxyAvVNz",
        "outputId": "84822047-ba12-4d1e-8670-434b1a037ef2"
      },
      "execution_count": 6,
      "outputs": [
        {
          "output_type": "stream",
          "name": "stdout",
          "text": [
            "torch.Size([256, 3, 32, 32]) torch.Size([256])\n"
          ]
        }
      ]
    },
    {
      "cell_type": "markdown",
      "source": [
        "1. Ensure Input Data is Float: In the Model class, you are flattening the input tensor x before passing it to the first layer. Make sure this tensor is of type float32. If it's not, convert it explicitly using .type(torch.float32) before flattening.\n",
        "\n",
        "2. Output Dimension: The output dimension of the final layer (self.layer3) has been changed from 1 to 10 to match the number of classes in the MNIST dataset. This will ensure that the model outputs a probability distribution over the 10 possible digits.\n",
        "\n",
        "3. Activation Function: The ReLU activation function has been removed from the final layer. This is because nn.CrossEntropyLoss expects raw, unnormalized scores (logits) as input. Removing the activation function allows the model to output these scores directly."
      ],
      "metadata": {
        "id": "zuKPSmgiWSNi"
      }
    },
    {
      "cell_type": "code",
      "source": [
        "from torch import nn\n",
        "\n",
        "activation = nn.LeakyReLU()\n",
        "\n",
        "# CNN model would be better\n",
        "class Model(nn.Module):\n",
        "  def __init__(self, input_dim, n_dim):\n",
        "    super().__init__()\n",
        "\n",
        "    self.layer1 = nn.Linear(input_dim, n_dim)\n",
        "    self.layer2 = nn.Linear(n_dim, n_dim)\n",
        "    self.layer3 = nn.Linear(n_dim, 10) # change output dimension to 10 for CFAR10 (10 categories)\n",
        "\n",
        "    self.act = activation\n",
        "\n",
        "  def forward(self, x):\n",
        "    x = torch.flatten(x, start_dim=1)\n",
        "    x = self.act(self.layer1(x))\n",
        "    x = self.act(self.layer2(x))\n",
        "    x = self.layer3(x) # remove activation function from the final layer\n",
        "\n",
        "    return x\n",
        "\n",
        "\n",
        "model = Model(32 * 32 * 3, 1024)"
      ],
      "metadata": {
        "id": "OLOA-ZGTuVVG"
      },
      "execution_count": 7,
      "outputs": []
    },
    {
      "cell_type": "code",
      "source": [
        "class DropoutModel(nn.Module):\n",
        "  def __init__(self, input_dim, n_dim):\n",
        "    super().__init__()\n",
        "\n",
        "    self.layer1 = nn.Linear(input_dim, n_dim)\n",
        "    self.layer2 = nn.Linear(n_dim, n_dim)\n",
        "    self.layer3 = nn.Linear(n_dim, 10)\n",
        "\n",
        "    self.dropout = nn.Dropout(0.1)\n",
        "    self.act = nn.Sigmoid()\n",
        "\n",
        "  def forward(self, x):\n",
        "    x = torch.flatten(x, start_dim=1)\n",
        "    x = self.dropout(self.act(self.layer1(x)))\n",
        "    x = self.dropout(self.act(self.layer2(x)))\n",
        "    x = self.layer3(x) # dropout not applied\n",
        "\n",
        "    return x\n",
        "\n",
        "model = DropoutModel(32 * 32 * 3, 1024)"
      ],
      "metadata": {
        "id": "8ueoEU82l3hW"
      },
      "execution_count": 9,
      "outputs": []
    },
    {
      "cell_type": "code",
      "source": [
        "# class CNN(nn.Module):\n",
        "#   def __init__(self, input_dim, n_dim):\n",
        "#     super().__init__()\n",
        "\n",
        "#     self.conv1 = nn.Conv2d(3,"
      ],
      "metadata": {
        "id": "L3BaPrKvt073"
      },
      "execution_count": null,
      "outputs": []
    },
    {
      "cell_type": "code",
      "source": [
        "# import os\n",
        "\n",
        "# os.environ['TORCH_USE_CUDA_DSA'] = '1'"
      ],
      "metadata": {
        "id": "uvZEmBh0tvuT"
      },
      "execution_count": 10,
      "outputs": []
    },
    {
      "cell_type": "code",
      "source": [
        "from torch.optim import SGD, Adam\n",
        "\n",
        "lr = 0.001\n",
        "model = model.to('cuda')\n",
        "\n",
        "#optimizer = SGD(model.parameters(), lr=lr) # adam would be better\n",
        "optimizer = Adam(model.parameters(), lr=lr)"
      ],
      "metadata": {
        "id": "ypS0TcOlvBhZ"
      },
      "execution_count": 15,
      "outputs": []
    },
    {
      "cell_type": "markdown",
      "source": [
        "define loss function"
      ],
      "metadata": {
        "id": "Jl52R8qNXM-U"
      }
    },
    {
      "cell_type": "code",
      "source": [
        "loss_fn = nn.CrossEntropyLoss() # for classification"
      ],
      "metadata": {
        "id": "IWB0IqRx8lfd"
      },
      "execution_count": 16,
      "outputs": []
    },
    {
      "cell_type": "markdown",
      "source": [
        "train and test"
      ],
      "metadata": {
        "id": "1figAqOrXI0c"
      }
    },
    {
      "cell_type": "code",
      "source": [
        "n_epochs = 50\n",
        "train_accs = []\n",
        "test_accs = []\n",
        "\n",
        "for epoch in range(n_epochs):\n",
        "  train_loss = 0\n",
        "  train_cnt = 0\n",
        "  train_acc = 0\n",
        "  test_cnt = 0\n",
        "  test_acc = 0\n",
        "\n",
        "  if not model.training:\n",
        "    model.train()\n",
        "\n",
        "  for inputs, labels in trainloader:\n",
        "    model.zero_grad()\n",
        "    inputs, labels = inputs.to('cuda'), labels.to('cuda')\n",
        "\n",
        "    preds = model(inputs)\n",
        "    loss = loss_fn(preds, labels)\n",
        "\n",
        "    preds = torch.argmax(preds, dim=1)\n",
        "\n",
        "    train_cnt += labels.shape[0]\n",
        "    train_acc += (preds == labels).sum().item()\n",
        "\n",
        "    loss.backward()\n",
        "    optimizer.step()\n",
        "\n",
        "    train_loss += loss.item()\n",
        "  train_accs.append(train_acc / train_cnt)\n",
        "\n",
        "  model.eval()\n",
        "  with torch.no_grad():\n",
        "    for inputs, labels in testloader:\n",
        "      inputs, labels = inputs.to('cuda'), labels.to('cuda')\n",
        "\n",
        "      preds = model(inputs)\n",
        "\n",
        "      preds = torch.argmax(preds, dim=1)\n",
        "\n",
        "      test_cnt += labels.shape[0]\n",
        "      test_acc += (preds == labels).sum().item()\n",
        "\n",
        "    test_accs.append(test_acc / test_cnt)\n",
        "\n",
        "  print(f\"Epoch {epoch:3d} | Train Loss: {train_loss}\")"
      ],
      "metadata": {
        "colab": {
          "base_uri": "https://localhost:8080/"
        },
        "id": "TryX1hewvNiB",
        "outputId": "bcdbaa8a-58ac-4649-cf24-545116111b3f"
      },
      "execution_count": 17,
      "outputs": [
        {
          "output_type": "stream",
          "name": "stdout",
          "text": [
            "Epoch   0 | Train Loss: 381.2073130607605\n",
            "Epoch   1 | Train Loss: 339.31190943717957\n",
            "Epoch   2 | Train Loss: 321.97222781181335\n",
            "Epoch   3 | Train Loss: 311.7455041408539\n",
            "Epoch   4 | Train Loss: 303.9722237586975\n",
            "Epoch   5 | Train Loss: 294.57984960079193\n",
            "Epoch   6 | Train Loss: 288.60834181308746\n",
            "Epoch   7 | Train Loss: 284.946879863739\n",
            "Epoch   8 | Train Loss: 280.6032670736313\n",
            "Epoch   9 | Train Loss: 276.0249810218811\n",
            "Epoch  10 | Train Loss: 272.4897745847702\n",
            "Epoch  11 | Train Loss: 267.0852129459381\n",
            "Epoch  12 | Train Loss: 263.1448253393173\n",
            "Epoch  13 | Train Loss: 261.77074110507965\n",
            "Epoch  14 | Train Loss: 257.36930108070374\n",
            "Epoch  15 | Train Loss: 254.4277160167694\n",
            "Epoch  16 | Train Loss: 251.3537335395813\n",
            "Epoch  17 | Train Loss: 249.28333020210266\n",
            "Epoch  18 | Train Loss: 245.78385996818542\n",
            "Epoch  19 | Train Loss: 243.00817692279816\n",
            "Epoch  20 | Train Loss: 239.3665108680725\n",
            "Epoch  21 | Train Loss: 236.58097553253174\n",
            "Epoch  22 | Train Loss: 235.0118489265442\n",
            "Epoch  23 | Train Loss: 232.23359179496765\n",
            "Epoch  24 | Train Loss: 230.1029863357544\n",
            "Epoch  25 | Train Loss: 224.33170461654663\n",
            "Epoch  26 | Train Loss: 223.19203460216522\n",
            "Epoch  27 | Train Loss: 221.06823235750198\n",
            "Epoch  28 | Train Loss: 220.3305886387825\n",
            "Epoch  29 | Train Loss: 215.64410519599915\n",
            "Epoch  30 | Train Loss: 213.37825614213943\n",
            "Epoch  31 | Train Loss: 211.18276166915894\n",
            "Epoch  32 | Train Loss: 206.6192107796669\n",
            "Epoch  33 | Train Loss: 204.33594179153442\n",
            "Epoch  34 | Train Loss: 203.17942667007446\n",
            "Epoch  35 | Train Loss: 199.6681848168373\n",
            "Epoch  36 | Train Loss: 196.4798560142517\n",
            "Epoch  37 | Train Loss: 196.54504257440567\n",
            "Epoch  38 | Train Loss: 193.15674477815628\n",
            "Epoch  39 | Train Loss: 192.31641221046448\n",
            "Epoch  40 | Train Loss: 188.99871063232422\n",
            "Epoch  41 | Train Loss: 185.32979500293732\n",
            "Epoch  42 | Train Loss: 183.80735182762146\n",
            "Epoch  43 | Train Loss: 181.78535717725754\n",
            "Epoch  44 | Train Loss: 180.36283195018768\n",
            "Epoch  45 | Train Loss: 178.31727600097656\n",
            "Epoch  46 | Train Loss: 174.60411071777344\n",
            "Epoch  47 | Train Loss: 171.11790746450424\n",
            "Epoch  48 | Train Loss: 170.7841048836708\n",
            "Epoch  49 | Train Loss: 167.32868057489395\n"
          ]
        }
      ]
    },
    {
      "cell_type": "markdown",
      "source": [
        "model accuracy plot"
      ],
      "metadata": {
        "id": "VnVJfU-GWzTa"
      }
    },
    {
      "cell_type": "code",
      "source": [
        "import numpy as np\n",
        "\n",
        "def plot_acc(train_accs, test_accs, label1='train', label2='test'):\n",
        "  x = np.arange(len(train_accs))\n",
        "\n",
        "  plt.plot(x, train_accs, label=label1)\n",
        "  plt.plot(x, test_accs, label=label2)\n",
        "  plt.legend()\n",
        "  plt.show()\n",
        "\n",
        "plot_acc(train_accs, test_accs)"
      ],
      "metadata": {
        "colab": {
          "base_uri": "https://localhost:8080/",
          "height": 430
        },
        "id": "2lZhOxD0QIph",
        "outputId": "f49c4ebe-e809-4db1-dc45-d024081e51f3"
      },
      "execution_count": 18,
      "outputs": [
        {
          "output_type": "display_data",
          "data": {
            "text/plain": [
              "<Figure size 640x480 with 1 Axes>"
            ],
            "image/png": "[encoded data removed]"
          },
          "metadata": {}
        }
      ]
    }
  ]
}
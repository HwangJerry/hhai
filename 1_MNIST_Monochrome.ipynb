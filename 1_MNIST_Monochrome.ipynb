{
  "nbformat": 4,
  "nbformat_minor": 0,
  "metadata": {
    "colab": {
      "provenance": [],
      "gpuType": "T4"
    },
    "kernelspec": {
      "name": "python3",
      "display_name": "Python 3"
    },
    "language_info": {
      "name": "python"
    },
    "accelerator": "GPU"
  },
  "cells": [
    {
      "cell_type": "markdown",
      "source": [
        "# [기본과제] MNIST 분류 모델 구현"
      ],
      "metadata": {
        "id": "_72Gu6FVc8Tc"
      }
    },
    {
      "cell_type": "code",
      "execution_count": 23,
      "metadata": {
        "id": "6lXVfXoDtoQh"
      },
      "outputs": [],
      "source": [
        "import torch\n",
        "import torchvision\n",
        "import torchvision.transforms as transforms\n",
        "\n",
        "from matplotlib import pyplot as plt\n",
        "from torch import nn\n",
        "\n",
        "import os\n",
        "import numpy as np\n",
        "\n",
        "os.environ['TORCH_USE_CUDA_DSA'] = '1'"
      ]
    },
    {
      "cell_type": "code",
      "source": [
        "batch_size = 256"
      ],
      "metadata": {
        "id": "BoxEl_gVeUIR"
      },
      "execution_count": 5,
      "outputs": []
    },
    {
      "cell_type": "code",
      "source": [
        "transform = transforms.ToTensor()\n",
        "\n",
        "trainset = torchvision.datasets.MNIST(\n",
        "    root='./data/train',\n",
        "    train=True,\n",
        "    download=True,\n",
        "    transform=transform\n",
        ")\n",
        "\n",
        "trainloader = torch.utils.data.DataLoader(\n",
        "    trainset,\n",
        "    batch_size=batch_size,\n",
        "    shuffle=True\n",
        ")"
      ],
      "metadata": {
        "id": "2SLsiB1JdJzz"
      },
      "execution_count": 7,
      "outputs": []
    },
    {
      "cell_type": "markdown",
      "source": [
        "## 1. Test 데이터 준비하기\n",
        "- Test data는 MNIST의 train data를 load하는 코드에서 `train=False`로 두면 됩니다.\n",
        "- Train data와 마찬가지로 test data에 대한 data loader를 생성해주시면 됩니다(batch size는 동일하게 적용).\n",
        "    - Test data는 랜덤하게 섞일 필요가 없기 때문에 `shuffle=False`로 설정합니다.\n"
      ],
      "metadata": {
        "id": "rLroN8wmc3aa"
      }
    },
    {
      "cell_type": "code",
      "source": [
        "testset = torchvision.datasets.MNIST(\n",
        "    root = './data/test',\n",
        "    train = False, # [MYCODE] train = False로 설정\n",
        "    download = True,\n",
        "    transform = transform\n",
        ")\n",
        "\n",
        "testloader = torch.utils.data.DataLoader(\n",
        "    testset,\n",
        "    batch_size=batch_size, # [MYCODE] train data와 batch size는 동일하게 적용\n",
        "    shuffle=False # [MYCODE] shuffle = False로 설정\n",
        ")"
      ],
      "metadata": {
        "id": "KAYlqPaRt6ti"
      },
      "execution_count": 17,
      "outputs": []
    },
    {
      "cell_type": "code",
      "source": [
        "print(len(trainset))\n",
        "print(trainset[0][0].shape, trainset[0][1])\n",
        "#plt.imshow(trainset[0][0][0], cmap='gray')\n",
        "\n",
        "dataiter = iter(trainloader)\n",
        "images, labels = next(dataiter)\n",
        "print(images.shape, labels.shape)"
      ],
      "metadata": {
        "colab": {
          "base_uri": "https://localhost:8080/"
        },
        "id": "Zsp3sHmojyhT",
        "outputId": "87fbb94c-b023-4bbc-f8b2-bb54dc2af21d"
      },
      "execution_count": 11,
      "outputs": [
        {
          "output_type": "stream",
          "name": "stdout",
          "text": [
            "60000\n",
            "torch.Size([1, 28, 28]) 5\n",
            "torch.Size([256, 1, 28, 28]) torch.Size([256])\n"
          ]
        }
      ]
    },
    {
      "cell_type": "markdown",
      "source": [
        "## 2. CrossEntropyLoss 적용하기\n",
        "변경되어야 할 점은 2가지로 i) `Model`의 최종 output의 dimension과 ii) `loss` 계산 부분입니다."
      ],
      "metadata": {
        "id": "Jl52R8qNXM-U"
      }
    },
    {
      "cell_type": "code",
      "source": [
        "class Model(nn.Module):\n",
        "  def __init__(self, input_dim, n_dim):\n",
        "    super().__init__()\n",
        "\n",
        "    self.layer1 = nn.Linear(input_dim, n_dim)\n",
        "    self.layer2 = nn.Linear(n_dim, n_dim)\n",
        "    self.layer3 = nn.Linear(n_dim, 10) # [MYCODE] 0-9 총 10개의 숫자로 classification하기 위해 최종 output 차원을 10으로 설정\n",
        "\n",
        "    self.act = nn.ReLU()\n",
        "\n",
        "  def forward(self, x):\n",
        "    x = torch.flatten(x, start_dim=1)\n",
        "    x = self.act(self.layer1(x))\n",
        "    x = self.act(self.layer2(x))\n",
        "    x = self.layer3(x) # remove activation function from the final layer\n",
        "\n",
        "    return x\n",
        "\n",
        "\n",
        "model = Model(28 * 28 * 1, 1024)\n",
        "\n",
        "loss_fn = nn.CrossEntropyLoss()"
      ],
      "metadata": {
        "id": "OLOA-ZGTuVVG"
      },
      "execution_count": 13,
      "outputs": []
    },
    {
      "cell_type": "code",
      "source": [
        "from torch.optim import SGD\n",
        "\n",
        "lr = 0.001\n",
        "model = model.to('cuda')\n",
        "\n",
        "optimizer = SGD(model.parameters(), lr=lr)"
      ],
      "metadata": {
        "id": "ypS0TcOlvBhZ"
      },
      "execution_count": 14,
      "outputs": []
    },
    {
      "cell_type": "markdown",
      "source": [
        "## [LOG] 출력 결과"
      ],
      "metadata": {
        "id": "PbYmtgNJhRzB"
      }
    },
    {
      "cell_type": "code",
      "source": [
        "n_epochs = 100\n",
        "train_accs = []\n",
        "test_accs = []\n",
        "\n",
        "for epoch in range(n_epochs):\n",
        "  total_loss = 0.\n",
        "\n",
        "  train_cnt = 0\n",
        "  train_acc = 0\n",
        "  test_cnt = 0\n",
        "  test_acc = 0\n",
        "\n",
        "  if not model.training:\n",
        "    model.train()\n",
        "\n",
        "  for inputs, labels in trainloader:\n",
        "    model.zero_grad()\n",
        "    inputs, labels = inputs.to('cuda'), labels.to('cuda')\n",
        "\n",
        "    preds = model(inputs)\n",
        "    loss = loss_fn(preds, labels) # [MYCODE] loss 계산 부분을 MSE -> CrossEntropyLoss로 변경\n",
        "\n",
        "    preds = torch.argmax(preds, dim=1)\n",
        "\n",
        "    train_cnt += labels.shape[0]\n",
        "    train_acc += (preds == labels).sum().item()\n",
        "\n",
        "    loss.backward()\n",
        "    optimizer.step()\n",
        "\n",
        "    total_loss += loss.item()\n",
        "  train_accs.append(train_acc / train_cnt)\n",
        "\n",
        "  model.eval()\n",
        "  with torch.no_grad():\n",
        "    for inputs, labels in testloader:\n",
        "      inputs, labels = inputs.to('cuda'), labels.to('cuda')\n",
        "\n",
        "      preds = model(inputs)\n",
        "\n",
        "      preds = torch.argmax(preds, dim=1)\n",
        "\n",
        "      test_cnt += labels.shape[0]\n",
        "      test_acc += (preds == labels).sum().item()\n",
        "    test_accs.append(test_acc / test_cnt)\n",
        "\n",
        "  print(f\"Epoch {epoch:3d} | Loss: {total_loss}\")"
      ],
      "metadata": {
        "colab": {
          "base_uri": "https://localhost:8080/"
        },
        "id": "TryX1hewvNiB",
        "outputId": "beba9ba7-7f09-4431-d4e4-15467d23aa4d"
      },
      "execution_count": 20,
      "outputs": [
        {
          "output_type": "stream",
          "name": "stdout",
          "text": [
            "Epoch   0 | Loss: 416.7664723396301\n",
            "Epoch   1 | Loss: 398.51677799224854\n",
            "Epoch   2 | Loss: 379.12319552898407\n",
            "Epoch   3 | Loss: 359.14193773269653\n",
            "Epoch   4 | Loss: 339.0579639673233\n",
            "Epoch   5 | Loss: 319.3543281555176\n",
            "Epoch   6 | Loss: 300.5852905511856\n",
            "Epoch   7 | Loss: 282.9577376842499\n",
            "Epoch   8 | Loss: 266.75423562526703\n",
            "Epoch   9 | Loss: 251.91064631938934\n",
            "Epoch  10 | Loss: 238.49543511867523\n",
            "Epoch  11 | Loss: 226.5168740749359\n",
            "Epoch  12 | Loss: 215.6572739481926\n",
            "Epoch  13 | Loss: 205.92915606498718\n",
            "Epoch  14 | Loss: 197.29247516393661\n",
            "Epoch  15 | Loss: 189.33203262090683\n",
            "Epoch  16 | Loss: 182.2590315937996\n",
            "Epoch  17 | Loss: 175.84935462474823\n",
            "Epoch  18 | Loss: 169.93870741128922\n",
            "Epoch  19 | Loss: 164.6288941502571\n",
            "Epoch  20 | Loss: 159.76039791107178\n",
            "Epoch  21 | Loss: 155.3054115176201\n",
            "Epoch  22 | Loss: 151.1298267841339\n",
            "Epoch  23 | Loss: 147.39094996452332\n",
            "Epoch  24 | Loss: 143.93587988615036\n",
            "Epoch  25 | Loss: 140.66331142187119\n",
            "Epoch  26 | Loss: 137.72429403662682\n",
            "Epoch  27 | Loss: 134.8892324268818\n",
            "Epoch  28 | Loss: 132.313512891531\n",
            "Epoch  29 | Loss: 129.79872900247574\n",
            "Epoch  30 | Loss: 127.56586354970932\n",
            "Epoch  31 | Loss: 125.41696554422379\n",
            "Epoch  32 | Loss: 123.36247190833092\n",
            "Epoch  33 | Loss: 121.43797397613525\n",
            "Epoch  34 | Loss: 119.64500293135643\n",
            "Epoch  35 | Loss: 117.97379994392395\n",
            "Epoch  36 | Loss: 116.44596362113953\n",
            "Epoch  37 | Loss: 114.91373440623283\n",
            "Epoch  38 | Loss: 113.39844539761543\n",
            "Epoch  39 | Loss: 111.98437422513962\n",
            "Epoch  40 | Loss: 110.61979186534882\n",
            "Epoch  41 | Loss: 109.35440722107887\n",
            "Epoch  42 | Loss: 108.14820203185081\n",
            "Epoch  43 | Loss: 107.15426647663116\n",
            "Epoch  44 | Loss: 105.96241331100464\n",
            "Epoch  45 | Loss: 105.0444777905941\n",
            "Epoch  46 | Loss: 103.87652972340584\n",
            "Epoch  47 | Loss: 102.91550895571709\n",
            "Epoch  48 | Loss: 102.00428700447083\n",
            "Epoch  49 | Loss: 101.14826354384422\n",
            "Epoch  50 | Loss: 100.26882818341255\n",
            "Epoch  51 | Loss: 99.43078646063805\n",
            "Epoch  52 | Loss: 98.74383842945099\n",
            "Epoch  53 | Loss: 97.97653797268867\n",
            "Epoch  54 | Loss: 97.09613466262817\n",
            "Epoch  55 | Loss: 96.4855669438839\n",
            "Epoch  56 | Loss: 95.83738085627556\n",
            "Epoch  57 | Loss: 95.12996625900269\n",
            "Epoch  58 | Loss: 94.46815019845963\n",
            "Epoch  59 | Loss: 93.89354756474495\n",
            "Epoch  60 | Loss: 93.24824288487434\n",
            "Epoch  61 | Loss: 92.74196800589561\n",
            "Epoch  62 | Loss: 92.08211599290371\n",
            "Epoch  63 | Loss: 91.53833508491516\n",
            "Epoch  64 | Loss: 91.05741602182388\n",
            "Epoch  65 | Loss: 90.49182662367821\n",
            "Epoch  66 | Loss: 89.94700536131859\n",
            "Epoch  67 | Loss: 89.57161259651184\n",
            "Epoch  68 | Loss: 89.10417264699936\n",
            "Epoch  69 | Loss: 88.57346740365028\n",
            "Epoch  70 | Loss: 88.02758455276489\n",
            "Epoch  71 | Loss: 87.5799096673727\n",
            "Epoch  72 | Loss: 87.21816369891167\n",
            "Epoch  73 | Loss: 86.74277855455875\n",
            "Epoch  74 | Loss: 86.32789689302444\n",
            "Epoch  75 | Loss: 85.98412051796913\n",
            "Epoch  76 | Loss: 85.53683352470398\n",
            "Epoch  77 | Loss: 85.19743826985359\n",
            "Epoch  78 | Loss: 84.72591072320938\n",
            "Epoch  79 | Loss: 84.3984530121088\n",
            "Epoch  80 | Loss: 84.05508542060852\n",
            "Epoch  81 | Loss: 83.68891564011574\n",
            "Epoch  82 | Loss: 83.29847058653831\n",
            "Epoch  83 | Loss: 83.06429770588875\n",
            "Epoch  84 | Loss: 82.74992470443249\n",
            "Epoch  85 | Loss: 82.33351294696331\n",
            "Epoch  86 | Loss: 82.0101138651371\n",
            "Epoch  87 | Loss: 81.69494688510895\n",
            "Epoch  88 | Loss: 81.40183864533901\n",
            "Epoch  89 | Loss: 81.04622688889503\n",
            "Epoch  90 | Loss: 80.72236244380474\n",
            "Epoch  91 | Loss: 80.69690372049809\n",
            "Epoch  92 | Loss: 80.24565109610558\n",
            "Epoch  93 | Loss: 79.97172790765762\n",
            "Epoch  94 | Loss: 79.67189434170723\n",
            "Epoch  95 | Loss: 79.36977463960648\n",
            "Epoch  96 | Loss: 79.13954493403435\n",
            "Epoch  97 | Loss: 78.89673525094986\n",
            "Epoch  98 | Loss: 78.64944416284561\n",
            "Epoch  99 | Loss: 78.3446781784296\n"
          ]
        }
      ]
    },
    {
      "cell_type": "code",
      "source": [
        "def plot_acc(train_accs, test_accs, label1='train', label2='test'):\n",
        "  x = np.arange(len(train_accs))\n",
        "\n",
        "  plt.plot(x, train_accs, label=label1)\n",
        "  plt.plot(x, test_accs, label=label2)\n",
        "  plt.legend()\n",
        "  plt.show()\n",
        "\n",
        "plot_acc(train_accs, test_accs)"
      ],
      "metadata": {
        "colab": {
          "base_uri": "https://localhost:8080/",
          "height": 430
        },
        "id": "2lZhOxD0QIph",
        "outputId": "cf0754ae-f7f1-4493-a494-0c6ef20c7934"
      },
      "execution_count": 25,
      "outputs": [
        {
          "output_type": "display_data",
          "data": {
            "text/plain": [
              "<Figure size 640x480 with 1 Axes>"
            ],
            "image/png": "[encoded data removed]"
          },
          "metadata": {}
        }
      ]
    },
    {
      "cell_type": "code",
      "source": [
        "idx = 0\n",
        "\n",
        "x = trainset[idx][0][None]  # (1, 1, 28, 28)\n",
        "x = x.to('cuda')\n",
        "\n",
        "print(model(x))\n",
        "print(trainset[idx][1])"
      ],
      "metadata": {
        "id": "Zct0ssSKwjt1",
        "colab": {
          "base_uri": "https://localhost:8080/"
        },
        "outputId": "9a516f13-51e6-47b9-da8a-164d0f8beace"
      },
      "execution_count": 24,
      "outputs": [
        {
          "output_type": "stream",
          "name": "stdout",
          "text": [
            "tensor([[ 2.0017, -4.2247,  0.7412,  4.8462, -5.9336,  4.6369, -2.7028,  0.0074,\n",
            "          1.0637, -0.4436]], device='cuda:0', grad_fn=<AddmmBackward0>)\n",
            "5\n"
          ]
        }
      ]
    }
  ]
}
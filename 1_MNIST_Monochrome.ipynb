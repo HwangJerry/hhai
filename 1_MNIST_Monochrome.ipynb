{
  "nbformat": 4,
  "nbformat_minor": 0,
  "metadata": {
    "colab": {
      "provenance": [],
      "gpuType": "T4"
    },
    "kernelspec": {
      "name": "python3",
      "display_name": "Python 3"
    },
    "language_info": {
      "name": "python"
    },
    "accelerator": "GPU"
  },
  "cells": [
    {
      "cell_type": "markdown",
      "source": [
        "edited by jerry"
      ],
      "metadata": {
        "id": "w5V7t1YuXy6G"
      }
    },
    {
      "cell_type": "code",
      "execution_count": 17,
      "metadata": {
        "id": "6lXVfXoDtoQh"
      },
      "outputs": [],
      "source": [
        "import torch\n",
        "import torchvision\n",
        "import torchvision.transforms as transforms"
      ]
    },
    {
      "cell_type": "code",
      "source": [
        "transform = transforms.ToTensor()\n",
        "\n",
        "# load data to train\n",
        "trainset = torchvision.datasets.MNIST(\n",
        "    root='./data/train',\n",
        "    train=True,\n",
        "    download=True,\n",
        "    transform=transform\n",
        ")\n",
        "\n",
        "# load data to test\n",
        "testset = torchvision.datasets.MNIST(\n",
        "    root = './data/test',\n",
        "    train = False,\n",
        "    download = True,\n",
        "    transform = transform\n",
        ")"
      ],
      "metadata": {
        "id": "KAYlqPaRt6ti"
      },
      "execution_count": 18,
      "outputs": []
    },
    {
      "cell_type": "code",
      "source": [
        "from matplotlib import pyplot as plt\n",
        "\n",
        "print(len(trainset))\n",
        "print(trainset[0][0].shape, trainset[0][1])\n",
        "plt.imshow(trainset[0][0][0], cmap='gray')"
      ],
      "metadata": {
        "colab": {
          "base_uri": "https://localhost:8080/",
          "height": 484
        },
        "id": "Zsp3sHmojyhT",
        "outputId": "7ba48eb1-9e82-4822-9161-a5a0a558f267"
      },
      "execution_count": 19,
      "outputs": [
        {
          "output_type": "stream",
          "name": "stdout",
          "text": [
            "60000\n",
            "torch.Size([1, 28, 28]) 5\n"
          ]
        },
        {
          "output_type": "execute_result",
          "data": {
            "text/plain": [
              "<matplotlib.image.AxesImage at 0x78af173725c0>"
            ]
          },
          "metadata": {},
          "execution_count": 19
        },
        {
          "output_type": "display_data",
          "data": {
            "text/plain": [
              "<Figure size 640x480 with 1 Axes>"
            ],
            "image/png": "[encoded data removed]"
          },
          "metadata": {}
        }
      ]
    },
    {
      "cell_type": "code",
      "source": [
        "batch_size = 254\n",
        "\n",
        "# dataloader for trainset\n",
        "trainloader = torch.utils.data.DataLoader(\n",
        "    trainset,\n",
        "    batch_size=batch_size,\n",
        "    shuffle=True\n",
        ")\n",
        "\n",
        "# dataloader for testset\n",
        "testloader = torch.utils.data.DataLoader(\n",
        "    testset,\n",
        "    batch_size=batch_size,\n",
        "    shuffle=False\n",
        ")"
      ],
      "metadata": {
        "id": "UxKu3kA2i5WH"
      },
      "execution_count": 20,
      "outputs": []
    },
    {
      "cell_type": "code",
      "source": [
        "dataiter = iter(trainloader)\n",
        "images, labels = next(dataiter)\n",
        "print(images.shape, labels.shape)"
      ],
      "metadata": {
        "colab": {
          "base_uri": "https://localhost:8080/"
        },
        "id": "_Hd7XxyAvVNz",
        "outputId": "22be39ab-aa5c-4754-9126-40701487b3f5"
      },
      "execution_count": 21,
      "outputs": [
        {
          "output_type": "stream",
          "name": "stdout",
          "text": [
            "torch.Size([254, 1, 28, 28]) torch.Size([254])\n"
          ]
        }
      ]
    },
    {
      "cell_type": "markdown",
      "source": [
        "1. Ensure Input Data is Float: In the Model class, you are flattening the input tensor x before passing it to the first layer. Make sure this tensor is of type float32. If it's not, convert it explicitly using .type(torch.float32) before flattening.\n",
        "\n",
        "2. Output Dimension: The output dimension of the final layer (self.layer3) has been changed from 1 to 10 to match the number of classes in the MNIST dataset. This will ensure that the model outputs a probability distribution over the 10 possible digits.\n",
        "\n",
        "3. Activation Function: The ReLU activation function has been removed from the final layer. This is because nn.CrossEntropyLoss expects raw, unnormalized scores (logits) as input. Removing the activation function allows the model to output these scores directly."
      ],
      "metadata": {
        "id": "zuKPSmgiWSNi"
      }
    },
    {
      "cell_type": "code",
      "source": [
        "from torch import nn\n",
        "\n",
        "# CNN model would be better\n",
        "class Model(nn.Module):\n",
        "  def __init__(self, input_dim, n_dim):\n",
        "    super().__init__()\n",
        "\n",
        "    self.layer1 = nn.Linear(input_dim, n_dim)\n",
        "    self.layer2 = nn.Linear(n_dim, n_dim)\n",
        "    self.layer3 = nn.Linear(n_dim, 10) # change output dimension to 10 for MNIST (0-9 digits)\n",
        "\n",
        "    self.act = nn.ReLU()\n",
        "\n",
        "  def forward(self, x):\n",
        "    x = x.type(torch.float32) # ensure input data as float32\n",
        "    x = torch.flatten(x, start_dim=1)\n",
        "    x = self.act(self.layer1(x))\n",
        "    x = self.act(self.layer2(x))\n",
        "    x = self.layer3(x) # remove activation function from the final layer\n",
        "\n",
        "    return x\n",
        "\n",
        "\n",
        "model = Model(28 * 28 * 1, 1024)"
      ],
      "metadata": {
        "id": "OLOA-ZGTuVVG"
      },
      "execution_count": 22,
      "outputs": []
    },
    {
      "cell_type": "code",
      "source": [
        "import os\n",
        "\n",
        "os.environ['TORCH_USE_CUDA_DSA'] = '1'"
      ],
      "metadata": {
        "id": "uvZEmBh0tvuT"
      },
      "execution_count": 23,
      "outputs": []
    },
    {
      "cell_type": "code",
      "source": [
        "from torch.optim import SGD\n",
        "\n",
        "lr = 0.001\n",
        "model = model.to('cuda')\n",
        "\n",
        "optimizer = SGD(model.parameters(), lr=lr) # adam would be better"
      ],
      "metadata": {
        "id": "ypS0TcOlvBhZ"
      },
      "execution_count": 24,
      "outputs": []
    },
    {
      "cell_type": "code",
      "source": [
        "# # Example of target with class indices\n",
        "# loss = nn.CrossEntropyLoss()\n",
        "# input = torch.randn(3, 5, requires_grad=True)\n",
        "# target = torch.empty(3, dtype=torch.long).random_(5)\n",
        "# output = loss(input, target)\n",
        "# output.backward()\n",
        "# # Example of target with class probabilities\n",
        "# input = torch.randn(3, 5, requires_grad=True)\n",
        "# target = torch.randn(3, 5).softmax(dim=1)\n",
        "# output = loss(input, target)\n",
        "# output.backward()"
      ],
      "metadata": {
        "id": "dGlrgCaPBsgI"
      },
      "execution_count": 25,
      "outputs": []
    },
    {
      "cell_type": "markdown",
      "source": [
        "define loss function"
      ],
      "metadata": {
        "id": "Jl52R8qNXM-U"
      }
    },
    {
      "cell_type": "code",
      "source": [
        "loss_fn = nn.CrossEntropyLoss() # for classification"
      ],
      "metadata": {
        "id": "IWB0IqRx8lfd"
      },
      "execution_count": 26,
      "outputs": []
    },
    {
      "cell_type": "markdown",
      "source": [
        "train and test"
      ],
      "metadata": {
        "id": "1figAqOrXI0c"
      }
    },
    {
      "cell_type": "code",
      "source": [
        "n_epochs = 100\n",
        "train_accs = []\n",
        "test_accs = []\n",
        "\n",
        "for epoch in range(n_epochs):\n",
        "  total_loss = 0.\n",
        "\n",
        "  train_cnt = 0\n",
        "  train_acc = 0\n",
        "  test_cnt = 0\n",
        "  test_acc = 0\n",
        "\n",
        "  for data in trainloader:\n",
        "    model.zero_grad()\n",
        "    inputs, labels = data\n",
        "    inputs, labels = inputs.to('cuda'), labels.to('cuda')\n",
        "\n",
        "    preds = model(inputs)\n",
        "    loss = loss_fn(preds, labels)\n",
        "\n",
        "    preds = torch.argmax(preds, dim=1)\n",
        "\n",
        "    train_cnt += labels.shape[0]\n",
        "    train_acc += (preds == labels).sum().item()\n",
        "\n",
        "    loss.backward()\n",
        "    optimizer.step()\n",
        "\n",
        "    total_loss += loss.item()\n",
        "  train_accs.append(train_acc / train_cnt)\n",
        "\n",
        "  for data in testloader:\n",
        "    model.zero_grad()\n",
        "    inputs, labels = data\n",
        "    inputs, labels = inputs.to('cuda'), labels.to('cuda')\n",
        "\n",
        "    preds = model(inputs)\n",
        "    loss = loss_fn(preds, labels)\n",
        "\n",
        "    preds = torch.argmax(preds, dim=1)\n",
        "\n",
        "    test_cnt += labels.shape[0]\n",
        "    test_acc += (preds == labels).sum().item()\n",
        "\n",
        "    loss.backward()\n",
        "  test_accs.append(test_acc / test_cnt)\n",
        "\n",
        "\n",
        "\n",
        "  print(f\"Epoch {epoch:3d} | Loss: {total_loss}\")"
      ],
      "metadata": {
        "colab": {
          "base_uri": "https://localhost:8080/"
        },
        "id": "TryX1hewvNiB",
        "outputId": "9650284e-e15d-455b-f859-746c72796479"
      },
      "execution_count": 27,
      "outputs": [
        {
          "output_type": "stream",
          "name": "stdout",
          "text": [
            "Epoch   0 | Loss: 544.8245174884796\n",
            "Epoch   1 | Loss: 540.9683525562286\n",
            "Epoch   2 | Loss: 537.033285856247\n",
            "Epoch   3 | Loss: 532.9110996723175\n",
            "Epoch   4 | Loss: 528.4366400241852\n",
            "Epoch   5 | Loss: 523.4973964691162\n",
            "Epoch   6 | Loss: 517.9189817905426\n",
            "Epoch   7 | Loss: 511.62374806404114\n",
            "Epoch   8 | Loss: 504.35138726234436\n",
            "Epoch   9 | Loss: 496.0751705169678\n",
            "Epoch  10 | Loss: 486.52471923828125\n",
            "Epoch  11 | Loss: 475.53189492225647\n",
            "Epoch  12 | Loss: 462.90623819828033\n",
            "Epoch  13 | Loss: 448.6051000356674\n",
            "Epoch  14 | Loss: 432.55446994304657\n",
            "Epoch  15 | Loss: 414.8320540189743\n",
            "Epoch  16 | Loss: 395.70431089401245\n",
            "Epoch  17 | Loss: 375.3768398761749\n",
            "Epoch  18 | Loss: 354.65174305438995\n",
            "Epoch  19 | Loss: 333.89632284641266\n",
            "Epoch  20 | Loss: 313.74141442775726\n",
            "Epoch  21 | Loss: 294.69354581832886\n",
            "Epoch  22 | Loss: 276.84917664527893\n",
            "Epoch  23 | Loss: 260.5806490778923\n",
            "Epoch  24 | Loss: 245.94142282009125\n",
            "Epoch  25 | Loss: 232.81982058286667\n",
            "Epoch  26 | Loss: 221.08821165561676\n",
            "Epoch  27 | Loss: 210.7286176085472\n",
            "Epoch  28 | Loss: 201.41376280784607\n",
            "Epoch  29 | Loss: 192.86925768852234\n",
            "Epoch  30 | Loss: 185.46356344223022\n",
            "Epoch  31 | Loss: 178.64676648378372\n",
            "Epoch  32 | Loss: 172.36521369218826\n",
            "Epoch  33 | Loss: 166.8659719824791\n",
            "Epoch  34 | Loss: 161.77313643693924\n",
            "Epoch  35 | Loss: 157.14744025468826\n",
            "Epoch  36 | Loss: 152.96622627973557\n",
            "Epoch  37 | Loss: 148.91914027929306\n",
            "Epoch  38 | Loss: 145.29125693440437\n",
            "Epoch  39 | Loss: 142.0363971889019\n",
            "Epoch  40 | Loss: 138.9420337677002\n",
            "Epoch  41 | Loss: 136.06951335072517\n",
            "Epoch  42 | Loss: 133.35186883807182\n",
            "Epoch  43 | Loss: 130.73126485943794\n",
            "Epoch  44 | Loss: 128.2921291589737\n",
            "Epoch  45 | Loss: 126.08132430911064\n",
            "Epoch  46 | Loss: 124.19979426264763\n",
            "Epoch  47 | Loss: 122.29274913668633\n",
            "Epoch  48 | Loss: 120.18104967474937\n",
            "Epoch  49 | Loss: 118.40119117498398\n",
            "Epoch  50 | Loss: 116.9905087351799\n",
            "Epoch  51 | Loss: 115.239532828331\n",
            "Epoch  52 | Loss: 113.70134946703911\n",
            "Epoch  53 | Loss: 112.23967894911766\n",
            "Epoch  54 | Loss: 111.08338528871536\n",
            "Epoch  55 | Loss: 109.79940178990364\n",
            "Epoch  56 | Loss: 108.53422117233276\n",
            "Epoch  57 | Loss: 107.08932289481163\n",
            "Epoch  58 | Loss: 106.04714488983154\n",
            "Epoch  59 | Loss: 105.01596873998642\n",
            "Epoch  60 | Loss: 104.0198957324028\n",
            "Epoch  61 | Loss: 103.16302525997162\n",
            "Epoch  62 | Loss: 102.14880353212357\n",
            "Epoch  63 | Loss: 101.22418400645256\n",
            "Epoch  64 | Loss: 100.27750247716904\n",
            "Epoch  65 | Loss: 99.51546669006348\n",
            "Epoch  66 | Loss: 98.60926115512848\n",
            "Epoch  67 | Loss: 97.98448941111565\n",
            "Epoch  68 | Loss: 97.08720937371254\n",
            "Epoch  69 | Loss: 96.48033612966537\n",
            "Epoch  70 | Loss: 95.93846002221107\n",
            "Epoch  71 | Loss: 95.1145603954792\n",
            "Epoch  72 | Loss: 94.39735293388367\n",
            "Epoch  73 | Loss: 93.73082533478737\n",
            "Epoch  74 | Loss: 93.2725365459919\n",
            "Epoch  75 | Loss: 92.54956844449043\n",
            "Epoch  76 | Loss: 92.06669110059738\n",
            "Epoch  77 | Loss: 91.4543642103672\n",
            "Epoch  78 | Loss: 90.91990357637405\n",
            "Epoch  79 | Loss: 90.4396764934063\n",
            "Epoch  80 | Loss: 89.82682862877846\n",
            "Epoch  81 | Loss: 89.45161074399948\n",
            "Epoch  82 | Loss: 89.03734636306763\n",
            "Epoch  83 | Loss: 88.43326538801193\n",
            "Epoch  84 | Loss: 87.94252273440361\n",
            "Epoch  85 | Loss: 87.65231913328171\n",
            "Epoch  86 | Loss: 87.14562909305096\n",
            "Epoch  87 | Loss: 86.5543550401926\n",
            "Epoch  88 | Loss: 86.31558507680893\n",
            "Epoch  89 | Loss: 85.77207809686661\n",
            "Epoch  90 | Loss: 85.49128723144531\n",
            "Epoch  91 | Loss: 85.16133172810078\n",
            "Epoch  92 | Loss: 84.6237917393446\n",
            "Epoch  93 | Loss: 84.48839893937111\n",
            "Epoch  94 | Loss: 83.88447028398514\n",
            "Epoch  95 | Loss: 83.75004225969315\n",
            "Epoch  96 | Loss: 83.2892372906208\n",
            "Epoch  97 | Loss: 82.87763424217701\n",
            "Epoch  98 | Loss: 82.57552301883698\n",
            "Epoch  99 | Loss: 82.28876298666\n"
          ]
        }
      ]
    },
    {
      "cell_type": "markdown",
      "source": [
        "model accuracy plot"
      ],
      "metadata": {
        "id": "VnVJfU-GWzTa"
      }
    },
    {
      "cell_type": "code",
      "source": [
        "import numpy as np\n",
        "\n",
        "def plot_acc(train_accs, test_accs, label1='train', label2='test'):\n",
        "  x = np.arange(len(train_accs))\n",
        "\n",
        "  plt.plot(x, train_accs, label=label1)\n",
        "  plt.plot(x, test_accs, label=label2)\n",
        "  plt.legend()\n",
        "  plt.show()\n",
        "\n",
        "plot_acc(train_accs, test_accs)"
      ],
      "metadata": {
        "colab": {
          "base_uri": "https://localhost:8080/",
          "height": 430
        },
        "id": "2lZhOxD0QIph",
        "outputId": "14a883c6-43fb-4199-ee18-818c2a204616"
      },
      "execution_count": 29,
      "outputs": [
        {
          "output_type": "display_data",
          "data": {
            "text/plain": [
              "<Figure size 640x480 with 1 Axes>"
            ],
            "image/png": "[encoded data removed]"
          },
          "metadata": {}
        }
      ]
    },
    {
      "cell_type": "markdown",
      "source": [
        "example of model accuracy"
      ],
      "metadata": {
        "id": "Lm1GZNfKXEtL"
      }
    },
    {
      "cell_type": "code",
      "source": [
        "idx = 0\n",
        "\n",
        "x = trainset[idx][0][None]  # (1, 1, 28, 28)\n",
        "x = x.to('cuda')\n",
        "\n",
        "print(model(x))\n",
        "print(trainset[idx][1])"
      ],
      "metadata": {
        "id": "Zct0ssSKwjt1",
        "colab": {
          "base_uri": "https://localhost:8080/"
        },
        "outputId": "fd381e63-cf7a-4df4-a235-6c503b8cec1a"
      },
      "execution_count": 30,
      "outputs": [
        {
          "output_type": "stream",
          "name": "stdout",
          "text": [
            "tensor([[ 2.0261, -4.1638,  0.3662,  4.9929, -5.7753,  4.6806, -2.9742, -0.1115,\n",
            "          1.3902, -0.4859]], device='cuda:0', grad_fn=<AddmmBackward0>)\n",
            "5\n"
          ]
        }
      ]
    }
  ]
}